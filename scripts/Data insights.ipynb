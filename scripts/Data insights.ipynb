{
 "cells": [
  {
   "cell_type": "code",
   "execution_count": 8,
   "id": "82459523",
   "metadata": {},
   "outputs": [],
   "source": [
    "import pandas as pd"
   ]
  },
  {
   "cell_type": "code",
   "execution_count": 9,
   "id": "1b744bd0",
   "metadata": {},
   "outputs": [],
   "source": [
    "\n",
    "import json\n",
    "\n",
    "# Load the JSON file\n",
    "with open('recipe.json', 'r') as json_file:\n",
    "    data = json.load(json_file)\n",
    "\n",
    "# Convert JSON data to DataFrame\n",
    "df = pd.json_normalize(data)\n",
    "\n",
    "# Export DataFrame to CSV\n",
    "df.to_csv('output_file.csv', index=False)"
   ]
  },
  {
   "cell_type": "code",
   "execution_count": 12,
   "id": "78a0b5ae",
   "metadata": {},
   "outputs": [
    {
     "name": "stdout",
     "output_type": "stream",
     "text": [
      "[]\n"
     ]
    }
   ],
   "source": [
    "non_null_columns = df.columns[df.notnull().all()].tolist()\n",
    "\n",
    "# Display the result\n",
    "print(non_null_columns)"
   ]
  },
  {
   "cell_type": "code",
   "execution_count": 13,
   "id": "f2ba4cc7",
   "metadata": {},
   "outputs": [
    {
     "name": "stdout",
     "output_type": "stream",
     "text": [
      "      directions  fat date categories  calories desc  protein  rating title  \\\n",
      "1076         NaN  NaN  NaN        NaN       NaN  NaN      NaN     NaN   NaN   \n",
      "1135         NaN  NaN  NaN        NaN       NaN  NaN      NaN     NaN   NaN   \n",
      "1907         NaN  NaN  NaN        NaN       NaN  NaN      NaN     NaN   NaN   \n",
      "5146         NaN  NaN  NaN        NaN       NaN  NaN      NaN     NaN   NaN   \n",
      "5424         NaN  NaN  NaN        NaN       NaN  NaN      NaN     NaN   NaN   \n",
      "5558         NaN  NaN  NaN        NaN       NaN  NaN      NaN     NaN   NaN   \n",
      "7607         NaN  NaN  NaN        NaN       NaN  NaN      NaN     NaN   NaN   \n",
      "7768         NaN  NaN  NaN        NaN       NaN  NaN      NaN     NaN   NaN   \n",
      "7881         NaN  NaN  NaN        NaN       NaN  NaN      NaN     NaN   NaN   \n",
      "8177         NaN  NaN  NaN        NaN       NaN  NaN      NaN     NaN   NaN   \n",
      "9590         NaN  NaN  NaN        NaN       NaN  NaN      NaN     NaN   NaN   \n",
      "10085        NaN  NaN  NaN        NaN       NaN  NaN      NaN     NaN   NaN   \n",
      "11224        NaN  NaN  NaN        NaN       NaN  NaN      NaN     NaN   NaN   \n",
      "13206        NaN  NaN  NaN        NaN       NaN  NaN      NaN     NaN   NaN   \n",
      "13944        NaN  NaN  NaN        NaN       NaN  NaN      NaN     NaN   NaN   \n",
      "14684        NaN  NaN  NaN        NaN       NaN  NaN      NaN     NaN   NaN   \n",
      "16210        NaN  NaN  NaN        NaN       NaN  NaN      NaN     NaN   NaN   \n",
      "16903        NaN  NaN  NaN        NaN       NaN  NaN      NaN     NaN   NaN   \n",
      "19547        NaN  NaN  NaN        NaN       NaN  NaN      NaN     NaN   NaN   \n",
      "\n",
      "      ingredients  sodium  \n",
      "1076          NaN     NaN  \n",
      "1135          NaN     NaN  \n",
      "1907          NaN     NaN  \n",
      "5146          NaN     NaN  \n",
      "5424          NaN     NaN  \n",
      "5558          NaN     NaN  \n",
      "7607          NaN     NaN  \n",
      "7768          NaN     NaN  \n",
      "7881          NaN     NaN  \n",
      "8177          NaN     NaN  \n",
      "9590          NaN     NaN  \n",
      "10085         NaN     NaN  \n",
      "11224         NaN     NaN  \n",
      "13206         NaN     NaN  \n",
      "13944         NaN     NaN  \n",
      "14684         NaN     NaN  \n",
      "16210         NaN     NaN  \n",
      "16903         NaN     NaN  \n",
      "19547         NaN     NaN  \n"
     ]
    }
   ],
   "source": [
    "# Find rows in the 'directions' column that have null values\n",
    "null_directions_rows = df[df[''].isnull()]\n",
    "\n",
    "# Display the result\n",
    "print(null_directions_rows)"
   ]
  },
  {
   "cell_type": "code",
   "execution_count": 14,
   "id": "e9c6e91d",
   "metadata": {},
   "outputs": [
    {
     "name": "stderr",
     "output_type": "stream",
     "text": [
      "IOPub data rate exceeded.\n",
      "The notebook server will temporarily stop sending output\n",
      "to the client in order to avoid crashing it.\n",
      "To change this limit, set the config variable\n",
      "`--NotebookApp.iopub_data_rate_limit`.\n",
      "\n",
      "Current values:\n",
      "NotebookApp.iopub_data_rate_limit=1000000.0 (bytes/sec)\n",
      "NotebookApp.rate_limit_window=3.0 (secs)\n",
      "\n"
     ]
    }
   ],
   "source": [
    "# Remove rows with any null values\n",
    "df_cleaned = df.dropna(how='any')\n",
    "\n",
    "# Convert the cleaned DataFrame to JSON\n",
    "json_data = df_cleaned.to_json(orient='records', lines=True)\n",
    "\n",
    "# Optionally, save the JSON data to a file\n",
    "with open('clean_recipe.json', 'w') as json_file:\n",
    "    json_file.write(json_data)\n",
    "\n",
    "# Display the JSON data\n",
    "print(json_data)"
   ]
  },
  {
   "cell_type": "code",
   "execution_count": 16,
   "id": "fe722c74",
   "metadata": {},
   "outputs": [],
   "source": [
    "df_cleaned = df.dropna(subset=['ingredients'])"
   ]
  },
  {
   "cell_type": "code",
   "execution_count": 17,
   "id": "59688051",
   "metadata": {},
   "outputs": [
    {
     "name": "stderr",
     "output_type": "stream",
     "text": [
      "C:\\Users\\jambh\\AppData\\Local\\Temp\\ipykernel_43628\\1314428781.py:2: SettingWithCopyWarning: \n",
      "A value is trying to be set on a copy of a slice from a DataFrame.\n",
      "Try using .loc[row_indexer,col_indexer] = value instead\n",
      "\n",
      "See the caveats in the documentation: https://pandas.pydata.org/pandas-docs/stable/user_guide/indexing.html#returning-a-view-versus-a-copy\n",
      "  df_cleaned['ingredients'] = df_cleaned['ingredients'].apply(lambda x: ' '.join(x) if isinstance(x, list) else x)\n"
     ]
    }
   ],
   "source": [
    "# Ensure all ingredients are strings\n",
    "df_cleaned['ingredients'] = df_cleaned['ingredients'].apply(lambda x: ' '.join(x) if isinstance(x, list) else x)"
   ]
  },
  {
   "cell_type": "code",
   "execution_count": 18,
   "id": "afb2c495",
   "metadata": {},
   "outputs": [],
   "source": [
    "all_ingredients = ' '.join(df_cleaned['ingredients']).lower()\n",
    "keywords = all_ingredients.split()"
   ]
  },
  {
   "cell_type": "code",
   "execution_count": 30,
   "id": "bb3c1d8d",
   "metadata": {},
   "outputs": [
    {
     "name": "stdout",
     "output_type": "stream",
     "text": [
      "['cup', 'tablespoons', 'teaspoon', 'chopped', 'fresh', 'cups', 'or', 'tablespoon', 'large', 'and', 'oil', 'salt', 'teaspoons', 'sugar', 'into', 'cut', 'ground', 'olive', 'sliced', 'pepper']\n"
     ]
    }
   ],
   "source": [
    "# Filter out numbers and get top 20 keywords\n",
    "filtered_keywords = [(word, count) for word, count in keyword_counts.items() if word.isalpha()]\n",
    "top_20_keywords = sorted(filtered_keywords, key=lambda x: x[1], reverse=True)[:20]\n",
    "\n",
    "print([word for word, count in top_20_keywords])"
   ]
  },
  {
   "cell_type": "code",
   "execution_count": 21,
   "id": "7f37212f",
   "metadata": {},
   "outputs": [],
   "source": [
    "from collections import Counter\n",
    "keyword_counts = Counter(keywords)"
   ]
  },
  {
   "cell_type": "code",
   "execution_count": 24,
   "id": "32666f25",
   "metadata": {},
   "outputs": [
    {
     "name": "stdout",
     "output_type": "stream",
     "text": [
      "[('1', 65271), ('cup', 41110), ('2', 38247), ('1/2', 35320), ('tablespoons', 24855), ('teaspoon', 22789), ('chopped', 20023), ('fresh', 19104), ('1/4', 18274), ('cups', 15187), ('3', 14927), ('or', 13197), ('tablespoon', 11277), ('large', 10870), ('and', 10821), ('4', 10660), ('oil', 10565), ('salt', 9614), ('teaspoons', 9399), ('sugar', 8682), ('into', 8552), ('cut', 8230), ('3/4', 8028), ('ground', 7624), ('olive', 7358), ('(about', 6785), ('sliced', 6476), ('pepper', 6452), ('juice', 6417), ('finely', 6370), ('6', 6308), ('to', 6296), ('garlic', 5802), ('lemon', 5359), ('red', 5205), ('grated', 5133), ('unsalted', 5096), ('minced', 5057), ('water', 4648), ('black', 4629), ('1/3', 4610), ('ounces', 4574), ('cream', 4522), ('dried', 4382), ('pound', 4346), ('white', 4154), ('plus', 4013), ('of', 3983), ('flour', 3910), ('8', 3809)]\n"
     ]
    }
   ],
   "source": [
    "common_keywords = keyword_counts.most_common(50)\n",
    "print(common_keywords)"
   ]
  },
  {
   "cell_type": "code",
   "execution_count": null,
   "id": "4cf36324",
   "metadata": {},
   "outputs": [],
   "source": []
  }
 ],
 "metadata": {
  "kernelspec": {
   "display_name": "Python 3 (ipykernel)",
   "language": "python",
   "name": "python3"
  },
  "language_info": {
   "codemirror_mode": {
    "name": "ipython",
    "version": 3
   },
   "file_extension": ".py",
   "mimetype": "text/x-python",
   "name": "python",
   "nbconvert_exporter": "python",
   "pygments_lexer": "ipython3",
   "version": "3.9.12"
  }
 },
 "nbformat": 4,
 "nbformat_minor": 5
}
